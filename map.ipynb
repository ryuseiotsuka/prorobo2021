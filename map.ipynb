{
 "cells": [
  {
   "cell_type": "markdown",
   "id": "c0fe928a",
   "metadata": {},
   "source": [
    "### Map\n",
    "ここでは迷路に必要な地図を生成するためのプログラムを記述しています．"
   ]
  },
  {
   "cell_type": "markdown",
   "id": "5572ef5c",
   "metadata": {},
   "source": [
    "### インポートするモジュール\n",
    "地図を表示したり，前の地図を消すために必要なdisplay, clear_outputと地図の表示を行うmatplotlib，数値計算を高速化するnumpyをインポートしています．"
   ]
  },
  {
   "cell_type": "code",
   "execution_count": null,
   "id": "b6632342",
   "metadata": {},
   "outputs": [],
   "source": [
    "from ipywidgets import FloatProgress\n",
    "from IPython.display import display, clear_output\n",
    "import numpy as np\n",
    "import matplotlib.pyplot as plt"
   ]
  },
  {
   "cell_type": "markdown",
   "id": "bc2b79e8",
   "metadata": {},
   "source": [
    "### 地図の生成\n",
    "-----\n",
    "* インスタンス化　1-27行目\\\n",
    "3-6行目ではクラスのインスタンス化とスタートとゴールの座標，迷路となる配列の生成，マップサイズの計算を行っています．\\\n",
    "参考のプログラムと異なる点は，地図となる配列の生成をランダムにしたところです．迷路のもととなる12×12の配列の各要素に0以上101未満の100種類の数字をランダム割り当てるようにしました．\\\n",
    "8-18行目では迷路を生成するための配列の各要素のどこが壁でどこがなにもない空間かを決めるためのしきい値を設定し、それに応じて配列を変えています．\\\n",
    "16-19行目では迷路の四辺が壁で囲まれるようにするための処理を行っています．迷路の四辺は必ず配列の0番目または11番目なのでこれを用いて条件分岐を行っています．\n",
    "21-26行目ではスタート地点とゴール地点の設定と，それぞれが壁に埋まらないように処理を行っています．また，迷路の表示サイズの設定を行っています．\n",
    "\n",
    "-----\n",
    "* 当たり判定　28-33行目\\\n",
    "ここでは上下左右に移動可能かをboolで判断しています．壁があるところの配列が0となっているためFaithが返ってくるとそこに行くことができないと判断します．\n",
    "\n",
    "-----\n",
    "* 迷路の表示　35-54行目\\\n",
    "ここでは主にMatplotlibを利用し迷路を表示しています．36-38行目では迷路を生成する配列のサイズからマス目の数を計算し縦横に線を引いています．\\\n",
    "39-50行目では各マスのうち，壁，スタート地点，ゴール地点，自己位置を塗る処理をしています．"
   ]
  },
  {
   "cell_type": "code",
   "execution_count": null,
   "id": "cb5de973",
   "metadata": {},
   "outputs": [],
   "source": [
    "class Map(object):\n",
    "    def __init__(self):\n",
    "        self.init_pos = [1,1]\n",
    "        self.goal_pos = [10,10]\n",
    "        self.map = np.random.randint(0,101,(12,12))\n",
    "        self.size = self.map.shape[0]\n",
    "\n",
    "        #壁のしきい値設定\n",
    "        for i in range (self.size):\n",
    "            for j in range (self.size):\n",
    "                if self.map[i][j] <= 30:\n",
    "                    self.map[i][j] = 0\n",
    "                else :\n",
    "                    self.map[i][j] = 1\n",
    "\n",
    "        for i in range (self.size):\n",
    "            for j in range (self.size):\n",
    "                if i == 11 or j == 11 or i == 0 or j == 0:\n",
    "                    self.map[i][j] = 0\n",
    "        #スタート、ゴールを壁にしない\n",
    "        self.init_pos = [1,1]\n",
    "        self.goal_pos = [10,10]\n",
    "        self.map[11-self.init_pos[0]][self.init_pos[1]] = 2\n",
    "        self.map[11-self.goal_pos[0]][self.goal_pos[1]] = 3\n",
    "        plt.ion()\n",
    "        self.fig = plt.figure(figsize=(7,7))\n",
    "        self.ax = self.fig.add_subplot(111)\n",
    "\n",
    "    def chack_movable(self,pos):\n",
    "        up    = bool(self.map[11-pos[1]-1][pos[0]])\n",
    "        down  = bool(self.map[11-pos[1]+1][pos[0]])\n",
    "        right = bool(self.map[11-pos[1]][pos[0]+1])\n",
    "        left  = bool(self.map[11-pos[1]][pos[0]-1])\n",
    "\n",
    "        return([up,down,right,left])\n",
    "\n",
    "    def plot(self,pos=[1,1],q_table=[]):\n",
    "        gpoint = np.arange(0, self.size, 1)\n",
    "        plt.vlines(gpoint, 0, self.size, linewidth=0.3, colors=\"k\")\n",
    "        plt.hlines(gpoint, 0, self.size, linewidth=0.3, colors=\"k\")\n",
    "        plt.xlim(0, self.size)\n",
    "        plt.ylim(0, self.size)\n",
    "        for i in range (self.size):\n",
    "            for j in range (self.size):\n",
    "                if self.map[11-j][i] == 0:\n",
    "                    plt.axvspan(xmin=i, xmax=i+1, ymin=j/self.size, ymax=(j+1)/self.size, color = \"k\", alpha=0.9)\n",
    "                elif self.map[11-j][i] == 2:\n",
    "                    plt.axvspan(xmin=i, xmax=i+1, ymin=j/self.size, ymax=(j+1)/self.size, color = \"g\", alpha=0.5)\n",
    "                elif self.map[11-j][i] == 3:\n",
    "                    plt.axvspan(xmin=i, xmax=i+1, ymin=j/self.size, ymax=(j+1)/self.size, color = \"b\", alpha=0.5)\n",
    "                else:\n",
    "                    pass\n",
    "        plt.axvspan(xmin=pos[0], xmax=pos[0]+1, ymin=pos[1]/self.size, ymax=(pos[1]+1)/self.size,\\\n",
    "                    color = \"r\", alpha=0.5)\n",
    "        clear_output(wait = True)\n",
    "        plt.plot()\n",
    "        display(self.fig)\n",
    "        self.ax.cla()\n",
    "\n",
    "if __name__ == \"__main__\":\n",
    "    Map().plot()"
   ]
  }
 ],
 "metadata": {
  "kernelspec": {
   "display_name": "Python 3 (ipykernel)",
   "language": "python",
   "name": "python3"
  },
  "language_info": {
   "codemirror_mode": {
    "name": "ipython",
    "version": 3
   },
   "file_extension": ".py",
   "mimetype": "text/x-python",
   "name": "python",
   "nbconvert_exporter": "python",
   "pygments_lexer": "ipython3",
   "version": "3.9.7"
  }
 },
 "nbformat": 4,
 "nbformat_minor": 5
}
