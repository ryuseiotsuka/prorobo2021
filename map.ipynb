{
 "cells": [
  {
   "cell_type": "markdown",
   "id": "c0fe928a",
   "metadata": {},
   "source": [
    "### Map\n",
    "ここでは迷路に必要な地図を生成するためのプログラムを記述しています．"
   ]
  },
  {
   "cell_type": "markdown",
   "id": "5572ef5c",
   "metadata": {},
   "source": [
    "### インポートするモジュール\n",
    "地図を表示したり，前の地図を消すために必要なdisplay, clear_outputと地図の表示を行うmatplotlib，数値計算を高速化するnumpyをインポートしています．"
   ]
  },
  {
   "cell_type": "code",
   "execution_count": null,
   "id": "b6632342",
   "metadata": {},
   "outputs": [],
   "source": [
    "from ipywidgets import FloatProgress\n",
    "from IPython.display import display, clear_output\n",
    "import numpy as np\n",
    "import matplotlib.pyplot as plt"
   ]
  },
  {
   "cell_type": "markdown",
   "id": "bc2b79e8",
   "metadata": {},
   "source": [
    "### 地図の生成\n",
    "\n",
    "迷路を自動で生成し,実行するごとに異なる迷路で学習でするようにしました."
   ]
  },
  {
   "cell_type": "code",
   "execution_count": null,
   "id": "cb5de973",
   "metadata": {},
   "outputs": [],
   "source": [
    "class Map(object):\n",
    "    ###インスタンス化\n",
    "    def __init__(self):\n",
    "        self.init_pos = [1,1]#スタートの設定\n",
    "        self.goal_pos = [10,10]#ゴールの設定\n",
    "        self.map = np.random.randint(0,101,(12,12))#迷路生成用配列の生成\n",
    "        self.size = self.map.shape[0]#迷路サイズの計算\n",
    "\n",
    "        #壁のしきい値決定\n",
    "        #1から100までの数字を,しきい値を決めて壁となにもない空間に分ける\n",
    "        for i in range (self.size):\n",
    "            for j in range (self.size):\n",
    "                if self.map[i][j] <= 30:#配列内の数字が30以内で壁\n",
    "                    self.map[i][j] = 0\n",
    "                else :　　　　　　　　　#それ以外はなにもないマス\n",
    "                    self.map[i][j] = 1\n",
    "　　　　#迷路の四辺を壁で囲う\n",
    "        for i in range (self.size):\n",
    "            for j in range (self.size):\n",
    "                if i == 11 or j == 11 or i == 0 or j == 0:#四辺は配列の0番目か11番目なので,その行と列をすべて壁にする\n",
    "                    self.map[i][j] = 0\n",
    "        #スタート、ゴールを壁にしない\n",
    "        self.init_pos = [1,1]\n",
    "        self.goal_pos = [10,10]\n",
    "        #スタートとゴールを別途設定する\n",
    "        self.map[11-self.init_pos[0]][self.init_pos[1]] = 2\n",
    "        self.map[11-self.goal_pos[0]][self.goal_pos[1]] = 3\n",
    "        #描画のための処理\n",
    "        plt.ion()\n",
    "        self.fig = plt.figure(figsize=(7,7))\n",
    "        self.ax = self.fig.add_subplot(111)\n",
    "　\n",
    "　　###当たり判定\n",
    "    def chack_movable(self,pos):\n",
    "        #上下左右に移動可能か調べる\n",
    "        #壁は0で表現されるので,falseが返ってきたら壁\n",
    "        up    = bool(self.map[11-pos[1]-1][pos[0]])\n",
    "        down  = bool(self.map[11-pos[1]+1][pos[0]])\n",
    "        right = bool(self.map[11-pos[1]][pos[0]+1])\n",
    "        left  = bool(self.map[11-pos[1]][pos[0]-1])\n",
    "\n",
    "        return([up,down,right,left])\n",
    "\n",
    "    ###迷路の描画\n",
    "    def plot(self,pos=[1,1],q_table=[]):\n",
    "        #迷路のマス目をカウント\n",
    "        gpoint = np.arange(0, self.size, 1)\n",
    "        #マス目の分だけ縦横に線を引く\n",
    "        plt.vlines(gpoint, 0, self.size, linewidth=0.3, colors=\"k\")\n",
    "        plt.hlines(gpoint, 0, self.size, linewidth=0.3, colors=\"k\")\n",
    "        plt.xlim(0, self.size)\n",
    "        plt.ylim(0, self.size)\n",
    "        #配列を1つ1つ確認しマス目に色を塗る\n",
    "        for i in range (self.size):\n",
    "            for j in range (self.size):\n",
    "                if self.map[11-j][i] == 0:#壁に色を塗る\n",
    "                    plt.axvspan(xmin=i, xmax=i+1, ymin=j/self.size, ymax=(j+1)/self.size, color = \"k\", alpha=0.9)\n",
    "                elif self.map[11-j][i] == 2:#スタートに色を塗る\n",
    "                    plt.axvspan(xmin=i, xmax=i+1, ymin=j/self.size, ymax=(j+1)/self.size, color = \"g\", alpha=0.5)\n",
    "                elif self.map[11-j][i] == 3:#ゴールに色を塗る\n",
    "                    plt.axvspan(xmin=i, xmax=i+1, ymin=j/self.size, ymax=(j+1)/self.size, color = \"b\", alpha=0.5)\n",
    "                else:\n",
    "                    pass\n",
    "        #自己位置に色を塗る\n",
    "        plt.axvspan(xmin=pos[0], xmax=pos[0]+1, ymin=pos[1]/self.size, ymax=(pos[1]+1)/self.size,\\\n",
    "                    color = \"r\", alpha=0.5)\n",
    "        #迷路描画の更新\n",
    "        clear_output(wait = True)\n",
    "        plt.plot()\n",
    "        display(self.fig)\n",
    "        self.ax.cla()#次の更新のため描いたものを消す\n",
    "\n",
    "if __name__ == \"__main__\":\n",
    "    Map().plot()"
   ]
  }
 ],
 "metadata": {
  "kernelspec": {
   "display_name": "Python 3 (ipykernel)",
   "language": "python",
   "name": "python3"
  },
  "language_info": {
   "codemirror_mode": {
    "name": "ipython",
    "version": 3
   },
   "file_extension": ".py",
   "mimetype": "text/x-python",
   "name": "python",
   "nbconvert_exporter": "python",
   "pygments_lexer": "ipython3",
   "version": "3.9.7"
  }
 },
 "nbformat": 4,
 "nbformat_minor": 5
}
