{
 "cells": [
  {
   "cell_type": "markdown",
   "id": "4b629d27",
   "metadata": {},
   "source": [
    "### Agent\n",
    "ここでは学習対象の行動を反映するを記述しています．"
   ]
  },
  {
   "cell_type": "markdown",
   "id": "14457bd3",
   "metadata": {},
   "source": [
    "### インポートするモジュール\n",
    "ここでは迷路部分を実装しているMapをインポートしています"
   ]
  },
  {
   "cell_type": "code",
   "execution_count": null,
   "id": "b31b1ba9",
   "metadata": {},
   "outputs": [],
   "source": [
    "from map import Map "
   ]
  },
  {
   "cell_type": "markdown",
   "id": "10d60372",
   "metadata": {},
   "source": [
    "### Agent　行動の反映\n",
    "ここではAgentがどのように行動するのか，周囲の情報をどのように得ているのかについて記述しています．\n",
    "\n",
    "-----\n",
    "* インスタンス化　1-6行目\\\n",
    "ここではクラスをインスタンス化しています．また，スタートとゴールの位置，自己位置の初期値，行動空間について初期化を行っています．\n",
    "自己位置はスタート地点と同じになるようにしています．\n",
    "\n",
    "-----\n",
    "* 行動　7-17行目\\\n",
    "ここでは，自分がマス目を移動するためのコードが書かれています．移動先に壁がないことを確認して移動しています．\n",
    "\n",
    "-----\n",
    "* 周囲の情報の獲得　19-30行目\\\n",
    "ここでは学習を行う際に必要な自己位置の情報を得る部分について記述しています．\n",
    "参考のプログラムと異なる点は，自己位置の周囲1マス分しか得ていない点とゴールまでの距離を点数化したものを情報として与えている点です．\\\n",
    "参考としたプログラムでは，自己位置がわかっている状態で学習を進めていました．私のプログラムでは自己位置の情報が限定されても学習を行うことができるようにしたかったため周囲1マス分，計8マスの情報だけを与えるようにしました．これは自分の位置から見て周囲1マスそれぞれに壁があるかどうかを見ることで実現しています．matplotlibの描画と地図を生成する配列の向きが異なる都合で，それぞれの位置を表す1番目の配列は11から引くようにしています．\\\n",
    "また，これに追加してゴールまでの距離を点数化し足し合わせています．これは三平方の定理によってゴールまでの距離を求めているのではなく，縦と横の距離が最大10であることを利用し，周囲1マスの情報と同じ変数内で距離を記述できるよう工夫しています．\\\n",
    "このStateが最大で25856となるため，Q-leaningのQ-tableの大きさが25856となっています．\n",
    "\n",
    "-----\n",
    "* ゴールチェック　33-38行目\\\n",
    "現在の位置がゴールの位置と重なった際にdoneにTruthを返すようになっています．"
   ]
  },
  {
   "cell_type": "code",
   "execution_count": null,
   "id": "526ca4c8",
   "metadata": {},
   "outputs": [],
   "source": [
    "class Agent(object):\n",
    "    def __init__(self,init_pos = [1,1],goal_pos = [10,10]):\n",
    "        self.pos = [init_pos[0], init_pos[1]]\n",
    "        self.goal_pos = goal_pos\n",
    "        self.action_space = 4\n",
    "        self.done = False\n",
    "    def action(self,a,d):\n",
    "        if a == 0 and d[0]:\n",
    "            self.pos[1] += 1\n",
    "        elif a == 1 and d[1]:\n",
    "            self.pos[1] -= 1\n",
    "        elif a == 2 and d[2]:\n",
    "            self.pos[0] += 1\n",
    "        elif a == 3 and d[3]:\n",
    "            self.pos[0] -= 1\n",
    "        else:\n",
    "            pass\n",
    "    \n",
    "    def get_state(self,_map):\n",
    "        #右上から反時計回り\n",
    "        state = (self.goal_pos[0]-self.pos[0])*2**9+\\\n",
    "                (self.goal_pos[1]-self.pos[1])*2**8+\\\n",
    "                2**7*bool(_map[11-self.pos[0]+1][self.pos[1]+1])+\\\n",
    "                2**6*bool(_map[11-self.pos[0]+0][self.pos[1]+1])+\\\n",
    "                2**5*bool(_map[11-self.pos[0]-1][self.pos[1]+1])+\\\n",
    "                2**4*bool(_map[11-self.pos[0]-1][self.pos[1]+0])+\\\n",
    "                2**3*bool(_map[11-self.pos[0]-1][self.pos[1]-1])+\\\n",
    "                2**2*bool(_map[11-self.pos[0]+0][self.pos[1]-1])+\\\n",
    "                2**1*bool(_map[11-self.pos[0]+1][self.pos[1]-1])+\\\n",
    "                2**0*bool(_map[11-self.pos[0]+1][self.pos[1]+0])\n",
    "        return state \n",
    "\n",
    "    def check_done(self):\n",
    "        if self.pos[0] == self.goal_pos[0] and \\\n",
    "           self.pos[1] == self.goal_pos[1]:\n",
    "            done = True\n",
    "        else: done = False\n",
    "        return done\n"
   ]
  }
 ],
 "metadata": {
  "kernelspec": {
   "display_name": "Python 3 (ipykernel)",
   "language": "python",
   "name": "python3"
  },
  "language_info": {
   "codemirror_mode": {
    "name": "ipython",
    "version": 3
   },
   "file_extension": ".py",
   "mimetype": "text/x-python",
   "name": "python",
   "nbconvert_exporter": "python",
   "pygments_lexer": "ipython3",
   "version": "3.9.7"
  }
 },
 "nbformat": 4,
 "nbformat_minor": 5
}
