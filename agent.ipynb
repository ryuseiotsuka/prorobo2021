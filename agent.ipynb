{
 "cells": [
  {
   "cell_type": "markdown",
   "id": "09eb275f",
   "metadata": {},
   "source": [
    "### Agent\n",
    "ここでは学習対象の行動を反映するを記述しています．"
   ]
  },
  {
   "cell_type": "markdown",
   "id": "f319772b",
   "metadata": {},
   "source": [
    "### インポートするモジュール\n",
    "ここでは迷路部分を実装しているMapをインポートしています"
   ]
  },
  {
   "cell_type": "code",
   "execution_count": null,
   "id": "39e6da6c",
   "metadata": {},
   "outputs": [],
   "source": [
    "import math\n",
    "from map import Map "
   ]
  },
  {
   "cell_type": "markdown",
   "id": "c1b40120",
   "metadata": {},
   "source": [
    "### Agent　行動の反映\n",
    "ここではAgentがどのように行動するのか，周囲の情報をどのように得ているのかについて記述しています．\n",
    "\n",
    "-----\n",
    "* 周囲の情報の獲得　26-37行目\\\n",
    "ここでは学習を行う際に必要な自己位置の情報を得る部分について記述しています．\n",
    "参考のプログラムと異なる点は，自己位置の周囲1マス分しか得ていない点とゴールまでの距離を点数化したものを情報として与えている点です．\n",
    "私のプログラムでは自己位置の情報が限定されても学習を行うことができるようにしたかったため周囲1マス分，計8マスの情報だけを与えるようにしました．これは自分の位置から見て周囲1マスそれぞれに壁があるかどうかを見ることで実現しています．matplotlibの描画と地図を生成する配列の向きが異なる都合で，それぞれの位置を表す1番目の配列は11から引くようにしています．\n",
    "また，これに追加してゴールまでの距離を点数化し足し合わせています．これは三平方の定理によってゴールまでの距離を求めているのではなく，縦と横の距離が最大10であることを利用し，周囲1マスの情報と同じ変数内で距離を記述できるよう工夫しています．\n",
    "このStateが最大で25856となるため，Q-leaningのQ-tableの大きさが25856となっています．\n",
    "\n",
    "-----\n"
   ]
  },
  {
   "cell_type": "code",
   "execution_count": null,
   "id": "526ca4c8",
   "metadata": {},
   "outputs": [],
   "source": [
    "class Agent(object):\n",
    "    ###インスタンス化\n",
    "    def __init__(self,init_pos = [1,1],goal_pos = [10,10]):#スタート・ゴールの座標を指定\n",
    "        #最初の自己位置をスタートに合わせる\n",
    "        self.pos = [init_pos[0], init_pos[1]]\n",
    "        #ゴールの設定\n",
    "        self.goal_pos = goal_pos\n",
    "        #移動の種類（上下左右）の数\n",
    "        self.action_space = 4\n",
    "        self.done = False\n",
    "        \n",
    "    ###移動   \n",
    "    def action(self,a,d):\n",
    "        #各方向で移動するフラグと行く先に壁がないことを確認し自己位置の配列を移動\n",
    "        if a == 0 and d[0]:\n",
    "            self.pos[1] += 1\n",
    "        elif a == 1 and d[1]:\n",
    "            self.pos[1] -= 1\n",
    "        elif a == 2 and d[2]:\n",
    "            self.pos[0] += 1\n",
    "        elif a == 3 and d[3]:\n",
    "            self.pos[0] -= 1\n",
    "        else:\n",
    "            pass\n",
    "\n",
    "    ###自己位置の情報の獲得    \n",
    "    def get_state(self,_map):#周囲1マスの情報とゴールまでの距離を点数化したものを得る\n",
    "        state = (self.goal_pos[0]-self.pos[0])*10+(self.goal_pos[1]-self.pos[1])*2**8+\\#ゴールまでの距離\n",
    "        2**7*bool(_map[11-self.pos[0]+1][self.pos[1]+1])+\\#右上のマス\n",
    "        2**6*bool(_map[11-self.pos[0]+0][self.pos[1]+1])+\\#上のマス\n",
    "        2**5*bool(_map[11-self.pos[0]-1][self.pos[1]+1])+\\#左上のマス\n",
    "        2**4*bool(_map[11-self.pos[0]-1][self.pos[1]+0])+\\#左のマス\n",
    "        2**3*bool(_map[11-self.pos[0]-1][self.pos[1]-1])+\\#左下のマス\n",
    "        2**2*bool(_map[11-self.pos[0]+0][self.pos[1]-1])+\\#下のマス\n",
    "        2**1*bool(_map[11-self.pos[0]+1][self.pos[1]-1])+\\#右下のマス\n",
    "        2**0*bool(_map[11-self.pos[0]+1][self.pos[1]+0])　#右のマス\n",
    "        return state \n",
    "\n",
    "    ###ゴールの判定\n",
    "    def check_done(self):#自己位置の縦と横がそれぞれゴールにあるかを確認\n",
    "        if self.pos[0] == self.goal_pos[0] and self.pos[1] == self.goal_pos[1]:\n",
    "            done = True\n",
    "        else: done = False\n",
    "        return done"
   ]
  }
 ],
 "metadata": {
  "kernelspec": {
   "display_name": "Python 3 (ipykernel)",
   "language": "python",
   "name": "python3"
  },
  "language_info": {
   "codemirror_mode": {
    "name": "ipython",
    "version": 3
   },
   "file_extension": ".py",
   "mimetype": "text/x-python",
   "name": "python",
   "nbconvert_exporter": "python",
   "pygments_lexer": "ipython3",
   "version": "3.9.7"
  }
 },
 "nbformat": 4,
 "nbformat_minor": 5
}
