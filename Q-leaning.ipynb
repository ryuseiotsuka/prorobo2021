{
 "cells": [
  {
   "cell_type": "markdown",
   "id": "8be2a260",
   "metadata": {},
   "source": [
    "## 確率ロボティクス　課題\n",
    "このプログラムは，Q学習を用いて12×12マスの迷路を解くプログラムです．\n",
    "\n",
    "* 注意点\\\n",
    "スタート・ゴールが壁に埋まらないような処理が入っていますが、迷路が自動生成のためスタートとゴールの間が壁で遮られる場合があります．\n",
    "その場合は上手くいきそうな地図が出るまでやり直してください．"
   ]
  },
  {
   "cell_type": "markdown",
   "id": "42827290",
   "metadata": {},
   "source": [
    "### インポートするモジュール\n",
    "今回使用したモジュールは，迷路を表示するためのmatplotlib，数値計算を高速化するmath，numpy，jupyter上で動画を埋め込むためのIPython.displayで構成されています．また迷路の生成，学習の対象と行動の反映をするプログラムを別に用意しインポートしています．"
   ]
  },
  {
   "cell_type": "code",
   "execution_count": 1,
   "id": "6a6c02e4",
   "metadata": {},
   "outputs": [],
   "source": [
    "import matplotlib\n",
    "import math\n",
    "import IPython.display\n",
    "%matplotlib inline\n",
    "\n",
    "import numpy as np\n",
    "from map import Map\n",
    "from agent import Agent"
   ]
  },
  {
   "cell_type": "markdown",
   "id": "7741c24e",
   "metadata": {},
   "source": [
    "### Q学習　アルゴリズム\n",
    "ここではQ学習を行っている部分について記述しています．\n",
    "\n",
    "---------------\n",
    "* インスタンス化　1-10行目\\\n",
    "ここではクラスをインスタンス化しています．\n",
    "ここで学習を行う際のエピソード数，ステップ数，ステップサイズ，割引率，Qテーブルについて決定しています．\\\n",
    "参考としたプログラムと異なる点は行動価値関数の大きさです．\\\n",
    "自分の位置を見て学習していましたが，今回のコードでは周囲8マスの状態を見て学習を行うため，行動価値関数のサイズの変更を行う必要がありました．行動価値関数のサイズがなぜこの数字になったのかはAgentのコード部で説明します．\n",
    "\n",
    "---------------\n",
    "* 行動決定　12-21行目\\\n",
    "ここでは行動価値関数をもとに行動の決定を行っています．\n",
    "\n",
    "---------------\n",
    "* Qテーブルの更新　23-27行目\\\n",
    "ここでは公式に従ってQテーブルの更新をしています．\n",
    "\n",
    "---------------\n",
    "* 報酬　29-34行目\\\n",
    "ここでは報酬を決めています．\\\n",
    "参考としたプログラムと異なる点は，ゴールまでの距離を報酬として引いている点です．自分のプログラムでは実行するたびに地図の形が変わります．異なる地図を使用した場合でも共通して行動の指標となるものを検討した結果がこのゴールまでの距離でした．\\\n",
    "三平方の定理から求めたゴールまでの距離を報酬から引くことで，できるだけ早くゴールの方向へ向かう行動を期待しこの報酬としました．ゴールまでの距離の報酬との釣り合いのため、目的地についた際の報酬も参考プログラムとは異なる値になっています．\n",
    "\n",
    "---------------\n",
    "* 実行　37-58行目\\\n",
    "今までの変数をもとに学習をループさせています．\\\n",
    "38-42行目では，Agentを初期化し最初の行動を決定しています．\\\n",
    "44-56行目では，episodeをループさせています．\n",
    "\n",
    "---------------"
   ]
  },
  {
   "cell_type": "code",
   "execution_count": 2,
   "id": "39b36b37",
   "metadata": {},
   "outputs": [
    {
     "data": {
      "image/png": "[encoded data removed]",
      "text/plain": [
       "<Figure size 504x504 with 1 Axes>"
      ]
     },
     "metadata": {},
     "output_type": "display_data"
    },
    {
     "ename": "AttributeError",
     "evalue": "'Map' object has no attribute 'ax'",
     "output_type": "error",
     "traceback": [
      "\u001b[1;31m---------------------------------------------------------------------------\u001b[0m",
      "\u001b[1;31mAttributeError\u001b[0m                            Traceback (most recent call last)",
      "\u001b[1;32m~\\AppData\\Local\\Temp/ipykernel_38080/3934123935.py\u001b[0m in \u001b[0;36m<module>\u001b[1;34m\u001b[0m\n\u001b[0;32m     67\u001b[0m \u001b[1;33m\u001b[0m\u001b[0m\n\u001b[0;32m     68\u001b[0m \u001b[1;32mif\u001b[0m \u001b[0m__name__\u001b[0m \u001b[1;33m==\u001b[0m \u001b[1;34m\"__main__\"\u001b[0m\u001b[1;33m:\u001b[0m\u001b[1;33m\u001b[0m\u001b[1;33m\u001b[0m\u001b[0m\n\u001b[1;32m---> 69\u001b[1;33m    \u001b[0mq_learning\u001b[0m\u001b[1;33m(\u001b[0m\u001b[1;33m)\u001b[0m\u001b[1;33m.\u001b[0m\u001b[0mrun\u001b[0m\u001b[1;33m(\u001b[0m\u001b[1;33m)\u001b[0m\u001b[1;33m\u001b[0m\u001b[1;33m\u001b[0m\u001b[0m\n\u001b[0m",
      "\u001b[1;32m~\\AppData\\Local\\Temp/ipykernel_38080/3934123935.py\u001b[0m in \u001b[0;36mrun\u001b[1;34m(self)\u001b[0m\n\u001b[0;32m     61\u001b[0m                 \u001b[0maction\u001b[0m \u001b[1;33m=\u001b[0m \u001b[0mself\u001b[0m\u001b[1;33m.\u001b[0m\u001b[0mdecide_action\u001b[0m\u001b[1;33m(\u001b[0m\u001b[0mnext_state\u001b[0m\u001b[1;33m,\u001b[0m\u001b[0mepisode\u001b[0m\u001b[1;33m,\u001b[0m\u001b[0mself\u001b[0m\u001b[1;33m.\u001b[0m\u001b[0mq_table\u001b[0m\u001b[1;33m)\u001b[0m\u001b[1;33m\u001b[0m\u001b[1;33m\u001b[0m\u001b[0m\n\u001b[0;32m     62\u001b[0m                 \u001b[0mstate\u001b[0m \u001b[1;33m=\u001b[0m \u001b[0mnext_state\u001b[0m\u001b[1;33m\u001b[0m\u001b[1;33m\u001b[0m\u001b[0m\n\u001b[1;32m---> 63\u001b[1;33m                 \u001b[0mself\u001b[0m\u001b[1;33m.\u001b[0m\u001b[0mmap\u001b[0m\u001b[1;33m.\u001b[0m\u001b[0mplot\u001b[0m\u001b[1;33m(\u001b[0m\u001b[0mself\u001b[0m\u001b[1;33m.\u001b[0m\u001b[0magent\u001b[0m\u001b[1;33m.\u001b[0m\u001b[0mpos\u001b[0m\u001b[1;33m,\u001b[0m\u001b[0mself\u001b[0m\u001b[1;33m.\u001b[0m\u001b[0mq_table\u001b[0m\u001b[1;33m)\u001b[0m\u001b[1;33m\u001b[0m\u001b[1;33m\u001b[0m\u001b[0m\n\u001b[0m\u001b[0;32m     64\u001b[0m                 \u001b[1;32mif\u001b[0m \u001b[0mdone\u001b[0m\u001b[1;33m:\u001b[0m\u001b[1;33m\u001b[0m\u001b[1;33m\u001b[0m\u001b[0m\n\u001b[0;32m     65\u001b[0m                     \u001b[1;32mbreak\u001b[0m\u001b[1;33m\u001b[0m\u001b[1;33m\u001b[0m\u001b[0m\n",
      "\u001b[1;32m~\\Desktop\\確率ロボティクス\\map.py\u001b[0m in \u001b[0;36mplot\u001b[1;34m(self, pos, q_table)\u001b[0m\n\u001b[0;32m     89\u001b[0m         \u001b[0mplt\u001b[0m\u001b[1;33m.\u001b[0m\u001b[0mplot\u001b[0m\u001b[1;33m(\u001b[0m\u001b[1;33m)\u001b[0m\u001b[1;33m\u001b[0m\u001b[1;33m\u001b[0m\u001b[0m\n\u001b[0;32m     90\u001b[0m         \u001b[0mdisplay\u001b[0m\u001b[1;33m(\u001b[0m\u001b[0mself\u001b[0m\u001b[1;33m.\u001b[0m\u001b[0mfig\u001b[0m\u001b[1;33m)\u001b[0m\u001b[1;33m\u001b[0m\u001b[1;33m\u001b[0m\u001b[0m\n\u001b[1;32m---> 91\u001b[1;33m         \u001b[0mself\u001b[0m\u001b[1;33m.\u001b[0m\u001b[0max\u001b[0m\u001b[1;33m.\u001b[0m\u001b[0mcla\u001b[0m\u001b[1;33m(\u001b[0m\u001b[1;33m)\u001b[0m\u001b[1;33m\u001b[0m\u001b[1;33m\u001b[0m\u001b[0m\n\u001b[0m\u001b[0;32m     92\u001b[0m \u001b[1;33m\u001b[0m\u001b[0m\n\u001b[0;32m     93\u001b[0m \u001b[1;33m\u001b[0m\u001b[0m\n",
      "\u001b[1;31mAttributeError\u001b[0m: 'Map' object has no attribute 'ax'"
     ]
    },
    {
     "data": {
      "image/png": "[encoded data removed]",
      "text/plain": [
       "<Figure size 504x504 with 1 Axes>"
      ]
     },
     "metadata": {
      "needs_background": "light"
     },
     "output_type": "display_data"
    }
   ],
   "source": [
    "import matplotlib\n",
    "import math\n",
    "%matplotlib inline\n",
    "\n",
    "import numpy as np\n",
    "from map import Map\n",
    "from agent import Agent\n",
    "\n",
    "class q_learning(object):\n",
    "    def __init__(self):\n",
    "        self.map = Map()\n",
    "        self.agent = Agent()\n",
    "        self.max_episode = 50\n",
    "        self.steps = 300\n",
    "        self.gamma = 0.9\n",
    "        self.alpha = 0.8\n",
    "        self.q_table = np.random.uniform(low=-1,high=1,\\\n",
    "                                    size=(25856,self.agent.action_space))\n",
    "\n",
    "    def decide_action(self,next_state,episode,q_table):\n",
    "        first_probability = 0.75\n",
    "        epsilon = first_probability * (1/(episode+1))\n",
    "        if epsilon <= np.random.uniform(0,1):\n",
    "            next_action = np.argmax(q_table[next_state])   \n",
    "        else:\n",
    "            prob = sum(q_table[next_state]+100) \n",
    "            w = (q_table[next_state]+100) / prob\n",
    "            next_action = np.random.choice(range(4) ,p=w)  \n",
    "        return next_action\n",
    "\n",
    "    def update_Qtable(self,q_table,state,action,reward,next_state):\n",
    "        next_max_q = max(q_table[next_state])\n",
    "        q_table[state,action] = (1 - self.alpha) * q_table[state,action]+\\\n",
    "                                self.alpha * (reward + self.gamma * next_max_q)\n",
    "        return q_table\n",
    "\n",
    "    def reward(self,done,state,next_state):\n",
    "        if done:\n",
    "            reward = 300\n",
    "        else:\n",
    "            reward  = -(math.sqrt((self.map.goal_pos[0]-self.agent.pos[0])**2)+\\\n",
    "                        math.sqrt((self.map.goal_pos[1]-self.agent.pos[1])**2))*0.5    \n",
    "        return reward\n",
    "\n",
    "\n",
    "    def run(self):\n",
    "        for episode in range(self.max_episode):\n",
    "            self.agent = Agent(self.map.init_pos)\n",
    "            state = self.agent.get_state(self.map.map)\n",
    "            action = np.argmax(self.q_table[state]) \n",
    "            reward_of_episode = 0\n",
    "\n",
    "            for i in range(self.steps):\n",
    "                direction = self.map.chack_movable(self.agent.pos) \n",
    "                self.agent.action(action,direction)\n",
    "                done = self.agent.check_done()\n",
    "                next_state = self.agent.get_state(self.map.map)\n",
    "                reward = self.reward(done,state,next_state) \n",
    "                reward_of_episode += reward\n",
    "                self.q_table = self.update_Qtable(self.q_table,state,action,reward,next_state)\n",
    "                action = self.decide_action(next_state,episode,self.q_table)\n",
    "                state = next_state\n",
    "                self.map.plot(self.agent.pos,self.q_table)\n",
    "                if done:\n",
    "                    break\n",
    "            print(\"episode %5d, reward %6d, step %5d\" %(episode+1,reward_of_episode,i+1))\n",
    "\n",
    "if __name__ == \"__main__\":\n",
    "   q_learning().run()"
   ]
  },
  {
   "cell_type": "markdown",
   "id": "54f2c36f",
   "metadata": {},
   "source": [
    "### 学習の過程\n",
    "学習に5分ほど時間がかかるため，実行したときの様子を倍速で再生したものを用意しました．"
   ]
  },
  {
   "cell_type": "code",
   "execution_count": null,
   "id": "bcdf2006",
   "metadata": {},
   "outputs": [],
   "source": [
    "IPython.display.YouTubeVideo('JOuJ6T_w22A', width=480, height=270)"
   ]
  }
 ],
 "metadata": {
  "kernelspec": {
   "display_name": "Python 3 (ipykernel)",
   "language": "python",
   "name": "python3"
  },
  "language_info": {
   "codemirror_mode": {
    "name": "ipython",
    "version": 3
   },
   "file_extension": ".py",
   "mimetype": "text/x-python",
   "name": "python",
   "nbconvert_exporter": "python",
   "pygments_lexer": "ipython3",
   "version": "3.9.7"
  }
 },
 "nbformat": 4,
 "nbformat_minor": 5
}
