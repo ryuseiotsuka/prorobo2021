{
 "cells": [
  {
   "cell_type": "markdown",
   "id": "8be2a260",
   "metadata": {},
   "source": [
    "## 確率ロボティクス　課題\n",
    "このプログラムは，Q学習を用いて12×12マスの迷路を解くプログラムです．\n",
    "\n",
    "* 注意点\\\n",
    "スタート・ゴールが壁に埋まらないような処理が入っていますが、迷路が自動生成のためスタートとゴールの間が壁で遮られる場合があります．\n",
    "その場合は上手くいきそうな地図が出るまでやり直してください．"
   ]
  },
  {
   "cell_type": "markdown",
   "id": "42827290",
   "metadata": {},
   "source": [
    "### インポートするモジュール\n",
    "今回使用したモジュールは，迷路を表示するためのmatplotlib，数値計算を高速化するmath，numpy，jupyter上で動画を埋め込むためのIPython.displayで構成されています．また迷路の生成，学習の対象と行動の反映をするプログラムを別に用意しインポートしています．"
   ]
  },
  {
   "cell_type": "code",
   "execution_count": 1,
   "id": "6a6c02e4",
   "metadata": {},
   "outputs": [],
   "source": [
    "import matplotlib\n",
    "import math\n",
    "import IPython.display\n",
    "%matplotlib inline\n",
    "\n",
    "import numpy as np\n",
    "from map import Map\n",
    "from agent import Agent"
   ]
  },
  {
   "cell_type": "markdown",
   "id": "7741c24e",
   "metadata": {},
   "source": [
    "### Q学習　アルゴリズム\n",
    "ここではQ学習を行っている部分について記述しています．\n",
    "\n",
    "---------------\n",
    "* インスタンス化　1-10行目\\\n",
    "参考としたプログラムと異なる点は行動価値関数の大きさです.\n",
    "自分の位置を見て学習していましたが，今回のコードでは周囲8マスの状態を見て学習を行うため，行動価値関数のサイズの変更を行う必要がありました．行動価値関数のサイズがなぜこの数字になったのかはAgentのコード部で説明します．\n",
    "\n",
    "---------------\n",
    "* 報酬　29-34行目\\\n",
    "ここでは報酬を決めています．\n",
    "参考としたプログラムと異なる点は，ゴールまでの距離を報酬として引いている点です．自分のプログラムでは実行するたびに地図の形が変わります．異なる地図を使用した場合でも共通して行動の指標となるものを検討した結果がこのゴールまでの距離でした．\n",
    "三平方の定理から求めたゴールまでの距離を報酬から引くことで，できるだけ早くゴールの方向へ向かう行動を期待しこの報酬としました．\n",
    "\n",
    "---------------\n"
   ]
  },
  {
   "cell_type": "code",
   "execution_count": null,
   "id": "39b36b37",
   "metadata": {},
   "outputs": [
    {
     "data": {
      "image/png": "[encoded data removed]",
      "text/plain": [
       "<Figure size 504x504 with 1 Axes>"
      ]
     },
     "metadata": {},
     "output_type": "display_data"
    }
   ],
   "source": [
    "class q_learning(object):\n",
    "    ###インスタンス化\n",
    "    def __init__(self):\n",
    "        self.map = Map()#Mapの呼び出し\n",
    "        self.agent = Agent()#Agentの呼び出し\n",
    "        #各パラメータの設定\n",
    "        self.max_episode = 50#エピソード数\n",
    "        self.steps = 300#ステップ数\n",
    "        self.gamma = 0.9#割引率\n",
    "        self.alpha = 0.8#ステップサイズ\n",
    "        self.q_table = np.random.uniform(low=-1,high=1,\\\n",
    "                                    size=(25856,self.agent.action_space))\n",
    "　　###行動決定\n",
    "    def decide_action(self,next_state,episode,q_table):\n",
    "        first_probability = 0.75\n",
    "        epsilon = first_probability * (1/(episode+1))#イプシロンの計算\n",
    "        #イプシロンが0から1の間のランダムな値より小さいかどうかで学習の進み具合を判断する\n",
    "        #イプシロンが乱数の値より小さい時\n",
    "        if epsilon <= np.random.uniform(0,1):\n",
    "            next_action = np.argmax(q_table[next_state]) #最も報酬が高いと思われる方向へ移動\n",
    "        #イプシロンが乱数の値と同じか大きいとき\n",
    "        else:\n",
    "            prob = sum(q_table[next_state]+100) \n",
    "            w = (q_table[next_state]+100) / prob\n",
    "            next_action = np.random.choice(range(4) ,p=w) #ランダムな方向へ移動\n",
    "        return next_action\n",
    "　　###Qテーブルの更新\n",
    "    #公式に従ってQテーブルを更新する\n",
    "    def update_Qtable(self,q_table,state,action,reward,next_state):\n",
    "        next_max_q = max(q_table[next_state])\n",
    "        q_table[state,action] = (1 - self.alpha) * q_table[state,action]+\\\n",
    "                                self.alpha * (reward + self.gamma * next_max_q)\n",
    "        return q_table\n",
    "\n",
    "    #報酬\n",
    "    def reward(self,done,state,next_state):\n",
    "        #ゴールしたら追加する報酬\n",
    "        if done:\n",
    "            reward = 300\n",
    "        #自己位置とゴールまでの距離を報酬から引き続ける\n",
    "        else:\n",
    "            reward  = -(math.sqrt((self.map.goal_pos[0]-self.agent.pos[0])**2)+\\\n",
    "                        math.sqrt((self.map.goal_pos[1]-self.agent.pos[1])**2))*0.5    \n",
    "        return reward\n",
    "\n",
    "　　#実行\n",
    "    def run(self):\n",
    "        #学習を進めるためのループ\n",
    "        for episode in range(self.max_episode):\n",
    "            #エージェントの初期化\n",
    "            self.agent = Agent(self.map.init_pos)\n",
    "            state = self.agent.get_state(self.map.map)\n",
    "            action = np.argmax(self.q_table[state]) \n",
    "            reward_of_episode = 0\n",
    "\n",
    "            for i in range(self.steps):\n",
    "                #移動できるかの確認\n",
    "                direction = self.map.chack_movable(self.agent.pos) \n",
    "                self.agent.action(action,direction)\n",
    "                done = self.agent.check_done()\n",
    "                #自己位置の確認\n",
    "                next_state = self.agent.get_state(self.map.map)\n",
    "                #報酬の計算と更新\n",
    "                reward = self.reward(done,state,next_state) \n",
    "                reward_of_episode += reward\n",
    "                #Qテーブルの更新\n",
    "                self.q_table = self.update_Qtable(self.q_table,state,action,reward,next_state)\n",
    "                #移動\n",
    "                action = self.decide_action(next_state,episode,self.q_table)\n",
    "                #自己位置の更新\n",
    "                state = next_state\n",
    "                #迷路へのプロット\n",
    "                self.map.plot(self.agent.pos,self.q_table)\n",
    "                if done:\n",
    "                    break\n",
    "            print(\"episode %5d, reward %6d, step %5d\" %(episode+1,reward_of_episode,i+1))#結果の表示\n",
    "\n",
    "if __name__ == \"__main__\":\n",
    "   q_learning().run()"
   ]
  },
  {
   "cell_type": "markdown",
   "id": "54f2c36f",
   "metadata": {},
   "source": [
    "### 学習の過程\n",
    "学習に5分ほど時間がかかるため，実行したときの様子を倍速で再生したものを用意しました．"
   ]
  },
  {
   "cell_type": "code",
   "execution_count": null,
   "id": "bcdf2006",
   "metadata": {},
   "outputs": [],
   "source": [
    "IPython.display.YouTubeVideo('JOuJ6T_w22A', width=480, height=270)"
   ]
  }
 ],
 "metadata": {
  "kernelspec": {
   "display_name": "Python 3 (ipykernel)",
   "language": "python",
   "name": "python3"
  },
  "language_info": {
   "codemirror_mode": {
    "name": "ipython",
    "version": 3
   },
   "file_extension": ".py",
   "mimetype": "text/x-python",
   "name": "python",
   "nbconvert_exporter": "python",
   "pygments_lexer": "ipython3",
   "version": "3.9.7"
  }
 },
 "nbformat": 4,
 "nbformat_minor": 5
}
